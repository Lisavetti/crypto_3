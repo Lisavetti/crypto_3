{
  "nbformat": 4,
  "nbformat_minor": 0,
  "metadata": {
    "colab": {
      "provenance": []
    },
    "kernelspec": {
      "name": "python3",
      "display_name": "Python 3"
    },
    "language_info": {
      "name": "python"
    }
  },
  "cells": [
    {
      "cell_type": "code",
      "execution_count": null,
      "metadata": {
        "id": "X3Gj26r3bm_h"
      },
      "outputs": [],
      "source": [
        "C1 = 0x2a5c41d2a1616d597c92d1a391dd47e91d7a41d3258a8acfc45d649b777843bf\n",
        "N1 = 0xBCBF36BF17ACC8B48C03252F5152AC31BF20545F2DB84EB08C812E2831F259D5\n",
        "C2 = 0x5098cdd28bc47382e62f95c4b8d9f83e79df72da145aab1a044644fdc154591e\n",
        "N2 = 0xD51F06E3CEE8765744223509E87172336B51FCB4B3E05093F18C21329D99AA99\n",
        "C3 = 0xaa2cce7c71a1e697ea13d1afa61ce70a7e011d3b9412fa845a61af4c1e961aa6\n",
        "N3 = 0xD9326BDA7150E596972BEB8053E44ED1A704ABC6D536D7478218B9D828B99075"
      ]
    },
    {
      "cell_type": "markdown",
      "source": [
        "Реализация атаки с малыми экспонентами"
      ],
      "metadata": {
        "id": "ynwpo_JFcBLi"
      }
    },
    {
      "cell_type": "code",
      "source": [
        "M1 = N2 * N3"
      ],
      "metadata": {
        "id": "sN-jMm_GcDwB"
      },
      "execution_count": null,
      "outputs": []
    },
    {
      "cell_type": "code",
      "source": [
        "M2 = N1 * N3"
      ],
      "metadata": {
        "id": "mqjdNt5TeDDT"
      },
      "execution_count": null,
      "outputs": []
    },
    {
      "cell_type": "code",
      "source": [
        "M3 = N1 * N2"
      ],
      "metadata": {
        "id": "mrJHNNgQeFGq"
      },
      "execution_count": null,
      "outputs": []
    },
    {
      "cell_type": "markdown",
      "source": [
        "y1 = M1^(-1) mod n1\n",
        "y2 = M2^(-1) mod n2\n",
        "y3 = M3^(-1) mod n3"
      ],
      "metadata": {
        "id": "SHP2wWNweaQB"
      }
    },
    {
      "cell_type": "code",
      "source": [
        "def gcdExtended(a, b):\n",
        "    if a == 0 :\n",
        "        return b,0,1\n",
        "    gcd,x1,y1 = gcdExtended(b%a, a)\n",
        "    x = y1 - (b//a) * x1\n",
        "    y = x1\n",
        "    return gcd,x,y\n",
        "\n",
        "y1 = gcdExtended(N1, M1)[-1]\n",
        "y2 = gcdExtended(N2, M2)[-1]\n",
        "y3 = gcdExtended(N3, M3)[-1]"
      ],
      "metadata": {
        "id": "5ZAa-l_beh-K"
      },
      "execution_count": null,
      "outputs": []
    },
    {
      "cell_type": "code",
      "source": [
        "C = M1 * y1 * C1 + M2 * y2 * C2 + M3 * y3 * C3\n",
        "C = C % (N1 * N2 * N3)"
      ],
      "metadata": {
        "id": "Wf0-yQ2Ugk_j"
      },
      "execution_count": null,
      "outputs": []
    },
    {
      "cell_type": "code",
      "source": [
        "print(gcdExtended(3,5))"
      ],
      "metadata": {
        "colab": {
          "base_uri": "https://localhost:8080/"
        },
        "id": "h-Eh-pjmFeiv",
        "outputId": "45054451-98a0-4ae4-cf56-8ca5d8d944cf"
      },
      "execution_count": null,
      "outputs": [
        {
          "output_type": "stream",
          "name": "stdout",
          "text": [
            "(1, 2, -1)\n"
          ]
        }
      ]
    },
    {
      "cell_type": "code",
      "source": [
        "print(C)"
      ],
      "metadata": {
        "colab": {
          "base_uri": "https://localhost:8080/"
        },
        "id": "rnagkvHR0jJM",
        "outputId": "32d0fac0-7eea-4b0a-b018-e19d733761fa"
      },
      "execution_count": null,
      "outputs": [
        {
          "output_type": "stream",
          "name": "stdout",
          "text": [
            "44125218104815898386254412725457522378884382677843402839177618734700644561338503947778238680140120026803301910065003730132348391058477059912030546873000028802302074547638500370832223842189494652007382496541532896114217\n"
          ]
        }
      ]
    },
    {
      "cell_type": "code",
      "source": [
        "from sympy import diff\n",
        "from math import exp\n",
        "E = 4\n",
        "def returnfunc(x, C):\n",
        "  return x**E - C\n",
        "\n",
        "def returndiff(differ, x):\n",
        "  differ = str(differ)\n",
        "  differ = differ.replace('x', str(x))\n",
        "  result = eval(differ)\n",
        "  return result\n",
        "\n",
        "def toFixed(numObj, digits = 0):\n",
        "  return f'{numObj:.{digits}f}'\n",
        "\n",
        "func = f'x**{E} - {C}'\n",
        "differ = diff(func)\n",
        "print(differ)\n",
        "delta = 1\n",
        "epsilon = 0.1*exp(-10)\n",
        "x0 = 1\n",
        "count = 0\n",
        "\n",
        "while delta > epsilon:\n",
        "  x = x0 - returnfunc(x0, C)/returndiff(differ, x0)\n",
        "  delta = abs(x - x0)\n",
        "  x0 = x\n",
        "  count = count + 1\n",
        "  if count > 30:\n",
        "    break\n"
      ],
      "metadata": {
        "id": "F8gYKgga0lmR"
      },
      "execution_count": null,
      "outputs": []
    },
    {
      "cell_type": "code",
      "source": [
        "print(C**(1/4))"
      ],
      "metadata": {
        "id": "DGhrryMQ3vvN",
        "colab": {
          "base_uri": "https://localhost:8080/"
        },
        "outputId": "5c94b6a9-8826-4a19-f4d7-e0037f0f34c5"
      },
      "execution_count": null,
      "outputs": [
        {
          "output_type": "stream",
          "name": "stdout",
          "text": [
            "2.5773400134128566e+54\n"
          ]
        }
      ]
    },
    {
      "cell_type": "markdown",
      "source": [
        "MITM attack"
      ],
      "metadata": {
        "id": "VNNKjVEJ_m9e"
      }
    },
    {
      "cell_type": "code",
      "source": [
        "C = 0x68bd38258a47d141d7eadcd54277502a3e22e135395963213c8bf8809b9a011c21ff31eeb5d658e2caef1bb482e0061ece9fdf1dcd410b3152e40ca4966605c7\n",
        "N = 0xC2E3FF95BB785E54BD1FC97A44D82DF7A5F6F87D0B33724F4D0899763876DA5BDAA0C41D97DEA7C2A2A79D2F93BB5CC1C0BC774D3D475DAFFB6DEC17CB96EF63\n",
        "N = int(N)\n",
        "l = 56\n",
        "exp = 65537"
      ],
      "metadata": {
        "id": "GHHuTjhM_Nk3"
      },
      "execution_count": null,
      "outputs": []
    },
    {
      "cell_type": "code",
      "source": [
        "First_elem = []\n",
        "Second_elem = []\n",
        "for i in range(2**(l//4)):\n",
        "  First_elem.append(i+1)"
      ],
      "metadata": {
        "id": "v3YSDRNu_ouH"
      },
      "execution_count": null,
      "outputs": []
    },
    {
      "cell_type": "code",
      "source": [
        "for elem in First_elem:\n",
        "  temp = pow(elem, exp, N)\n",
        "  Second_elem.append(temp)"
      ],
      "metadata": {
        "id": "8_zlrhXNBpOn"
      },
      "execution_count": null,
      "outputs": []
    },
    {
      "cell_type": "code",
      "source": [
        "C_s = []\n",
        "for i in range(2**(l//4)):\n",
        "  s_minus_e = gcdExtended((i+1)**exp, N)[1]\n",
        "  elem = C*s_minus_e\n",
        "  C_s.append(s_minus_e * elem)"
      ],
      "metadata": {
        "id": "WfETCPQpBr8e"
      },
      "execution_count": null,
      "outputs": []
    },
    {
      "cell_type": "code",
      "source": [],
      "metadata": {
        "id": "FrTh8Uc6FmNY"
      },
      "execution_count": null,
      "outputs": []
    }
  ]
}