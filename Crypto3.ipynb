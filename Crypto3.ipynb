{
  "nbformat": 4,
  "nbformat_minor": 0,
  "metadata": {
    "colab": {
      "provenance": [],
      "machine_shape": "hm"
    },
    "kernelspec": {
      "name": "python3",
      "display_name": "Python 3"
    },
    "language_info": {
      "name": "python"
    }
  },
  "cells": [
    {
      "cell_type": "code",
      "execution_count": null,
      "metadata": {
        "id": "X3Gj26r3bm_h"
      },
      "outputs": [],
      "source": [
        "C1 = 0x2a5c41d2a1616d597c92d1a391dd47e91d7a41d3258a8acfc45d649b777843bf\n",
        "N1 = 0xBCBF36BF17ACC8B48C03252F5152AC31BF20545F2DB84EB08C812E2831F259D5\n",
        "C2 = 0x5098cdd28bc47382e62f95c4b8d9f83e79df72da145aab1a044644fdc154591e\n",
        "N2 = 0xD51F06E3CEE8765744223509E87172336B51FCB4B3E05093F18C21329D99AA99\n",
        "C3 = 0xaa2cce7c71a1e697ea13d1afa61ce70a7e011d3b9412fa845a61af4c1e961aa6\n",
        "N3 = 0xD9326BDA7150E596972BEB8053E44ED1A704ABC6D536D7478218B9D828B99075"
      ]
    },
    {
      "cell_type": "markdown",
      "source": [
        "Реализация атаки с малыми экспонентами"
      ],
      "metadata": {
        "id": "ynwpo_JFcBLi"
      }
    },
    {
      "cell_type": "code",
      "source": [
        "M1 = N2 * N3\n",
        "M2 = N1 * N3\n",
        "M3 = N1 * N2"
      ],
      "metadata": {
        "id": "sN-jMm_GcDwB"
      },
      "execution_count": null,
      "outputs": []
    },
    {
      "cell_type": "markdown",
      "source": [
        "y1 = M1^(-1) mod n1\n",
        "y2 = M2^(-1) mod n2\n",
        "y3 = M3^(-1) mod n3"
      ],
      "metadata": {
        "id": "SHP2wWNweaQB"
      }
    },
    {
      "cell_type": "code",
      "source": [
        "def gcdExtended(a, b):\n",
        "    if a == 0 :\n",
        "        return b,0,1\n",
        "    gcd,x1,y1 = gcdExtended(b%a, a)\n",
        "    x = y1 - (b//a) * x1\n",
        "    y = x1\n",
        "    return gcd,x,y\n",
        "\n",
        "y1 = gcdExtended(N1, M1)[-1]\n",
        "y2 = gcdExtended(N2, M2)[-1]\n",
        "y3 = gcdExtended(N3, M3)[-1]"
      ],
      "metadata": {
        "id": "5ZAa-l_beh-K"
      },
      "execution_count": null,
      "outputs": []
    },
    {
      "cell_type": "code",
      "source": [
        "C = M1 * y1 * C1 + M2 * y2 * C2 + M3 * y3 * C3\n",
        "C = C % (N1 * N2 * N3)"
      ],
      "metadata": {
        "id": "Wf0-yQ2Ugk_j"
      },
      "execution_count": null,
      "outputs": []
    },
    {
      "cell_type": "code",
      "source": [
        "print(C)"
      ],
      "metadata": {
        "colab": {
          "base_uri": "https://localhost:8080/"
        },
        "id": "rnagkvHR0jJM",
        "outputId": "86f0d058-4e13-4a30-d6cb-c9e0790674dd"
      },
      "execution_count": null,
      "outputs": [
        {
          "output_type": "stream",
          "name": "stdout",
          "text": [
            "44125218104815898386254412725457522378884382677843402839177618734700644561338503947778238680140120026803301910065003730132348391058477059912030546873000028802302074547638500370832223842189494652007382496541532896114217\n"
          ]
        }
      ]
    },
    {
      "cell_type": "code",
      "source": [
        "print(C**(1/2))"
      ],
      "metadata": {
        "id": "DGhrryMQ3vvN",
        "colab": {
          "base_uri": "https://localhost:8080/"
        },
        "outputId": "35e5cb70-3421-4e69-db51-8e1e22f5432d"
      },
      "execution_count": null,
      "outputs": [
        {
          "output_type": "stream",
          "name": "stdout",
          "text": [
            "6.642681544738985e+108\n"
          ]
        }
      ]
    },
    {
      "cell_type": "code",
      "source": [
        "def square_root_newton(a, epsilon=1e-6, max_iterations=900):\n",
        "    # Начальное приближение - половина от a\n",
        "    x = float(a) / 2.0\n",
        "\n",
        "    # Итерационная формула метода Ньютона\n",
        "    for _ in range(max_iterations):\n",
        "        # Обновление приближения\n",
        "        x = 0.5 * (x + a / x)\n",
        "\n",
        "        # Проверка условия сходимости\n",
        "        if abs(x * x - a) < epsilon:\n",
        "            return x\n",
        "\n",
        "    # Если не достигли достаточной точности, возвращаем последнее значение\n",
        "    return x\n",
        "\n",
        "a = 160\n",
        "C = 44125218104815898386254412725457522378884382677843402839177618734700644561338503947778238680140120026803301910065003730132348391058477059912030546873000028802302074547638500370832223842189494652007382496541532896114217.0\n",
        "print(square_root_newton(C)) # Если экспонента это 2, то оно будет работать, а метод касательных (ниже), уже нет"
      ],
      "metadata": {
        "colab": {
          "base_uri": "https://localhost:8080/"
        },
        "id": "uyDXkRGp5qku",
        "outputId": "1bb7dd73-67c9-4492-cde7-280eae44511e"
      },
      "execution_count": null,
      "outputs": [
        {
          "output_type": "stream",
          "name": "stdout",
          "text": [
            "6.642681544738984e+108\n"
          ]
        }
      ]
    },
    {
      "cell_type": "code",
      "source": [
        "def nth_root(a, n, epsilon=1e-3, max_iterations=100):\n",
        "    if a < 0 and n % 2 == 0:\n",
        "        raise ValueError(\"Cannot calculate even root of a negative number\")\n",
        "\n",
        "    x = float(a) / 2.0\n",
        "\n",
        "    for _ in range(max_iterations):\n",
        "        x = x - (x**n - a) / (n * x**(n-1)) # На таком большом числе оно не работает, на числах поменьше - вполне\n",
        "\n",
        "        if abs(x**n - a) < epsilon:\n",
        "            return x\n",
        "\n",
        "    return x\n",
        "\n",
        "# Пример использования:\n",
        "#C = 44125218104815898386254412725457522378884382677843402839177618734700644561338503947778238680140120026803301910065003730132348391058477059912030546873000028802302074547638500370832223842189494652007382496541532896114217.0\n",
        "C = 32.0\n",
        "n = 3\n",
        "result = nth_root(C, n)\n",
        "print(f\"The {n}-th root of {a} is approximately {result}\")"
      ],
      "metadata": {
        "colab": {
          "base_uri": "https://localhost:8080/"
        },
        "id": "GvdpKHyE-vK9",
        "outputId": "01e59b45-0cfa-4153-cf76-638af04da7b9"
      },
      "execution_count": null,
      "outputs": [
        {
          "output_type": "stream",
          "name": "stdout",
          "text": [
            "The 3-th root of 4.41252181048159e+217 is approximately 3.174803981160996\n"
          ]
        }
      ]
    },
    {
      "cell_type": "code",
      "source": [
        "from mpmath import mp\n",
        "\n",
        "def nth_root_mpmath(a, n):\n",
        "    mp.dps = 50  # Устанавливаем точность\n",
        "    a = mp.mpf(a)\n",
        "    result = mp.nthroot(a, n)\n",
        "    return float(result)\n",
        "\n",
        "# Пример использования:\n",
        "a = 44125218104815898386254412725457522378884382677843402839177618734700644561338503947778238680140120026803301910065003730132348391058477059912030546873000028802302074547638500370832223842189494652007382496541532896114217.0\n",
        "n = 3\n",
        "result = nth_root_mpmath(a, n)\n",
        "print(f\"The {n}-th root of {a} is approximately {result}\")"
      ],
      "metadata": {
        "colab": {
          "base_uri": "https://localhost:8080/"
        },
        "id": "iJ94gPR2_MRH",
        "outputId": "a1407f77-3461-4255-e424-1820bd19f302"
      },
      "execution_count": null,
      "outputs": [
        {
          "output_type": "stream",
          "name": "stdout",
          "text": [
            "The 3-th root of 4.41252181048159e+217 is approximately 3.533694129556769e+72\n"
          ]
        }
      ]
    },
    {
      "cell_type": "markdown",
      "source": [
        "MITM attack"
      ],
      "metadata": {
        "id": "VNNKjVEJ_m9e"
      }
    },
    {
      "cell_type": "code",
      "source": [
        "C = 0x5860dec3f02dd10d2e6dc83272f9158dc2ae2eafd892baef5c9b8b52ad547f4ad6a79765516410bc21bf8602752b20ccf4ee36ec4e5ee1acc0f2f86880e1b738ae5cf5c35e73a892e78633f1a3fa2ca8880dfdab54aad8571c0ba1a159e7895efae5890470af7ebf80cebf709caf2c448b5e2de378b39e27234113b029a9c690697e0b97a6e1e97909458be686a884c2fd0a74cc85568a10b3344082e8dedd930508a9c62227e25e89aa779fc1ad5ec30a355d84b209d9641e6d092a77de0e71ee19a16a95c0fc2c5ead148a9e3c752cd124dbd2e2d2bf7385e41810bf8c7f44ce8616136d1d269b3f893cb15f182989631daa61f295fa2c2a8e82969b345096\n",
        "N = 0xD6022177E7453C4E8E165F545FC3C514D78DDA75B6BEAE0CB5802FE4310298B9EF119CDE0F78BFFA1737F33AF5904E09A6A4747BD63DC55A5A5F6FB597A424222223B4DD114FE036EE2A628261B3F29D8FC0ACB402F3F1C09DEF5A96ED7844CEBAB5AA8994AA8D72B022405C68DF5E7F8940D9914A62EE0F390E72215CD0CFC6D417735E81DBD334F21D11A7F2FD7FFF040CAB7BCE92D358995159C1381FDBE207ED98B8FE4355170E5E2617BC1C68DDA4C95F227090846DE85095390CDCF9540614DDABE4AC2B01ECDA5AD298EBE0BAC3ABD73854FB5C27133916CDAA105F5F9C902F199129EE1AA0E0FA85B4049B84D8BB021C81E8C7F73D36093B4DA04383\n",
        "N = int(N)\n",
        "l = 20\n",
        "exp = 65537"
      ],
      "metadata": {
        "id": "GHHuTjhM_Nk3"
      },
      "execution_count": null,
      "outputs": []
    },
    {
      "cell_type": "code",
      "source": [
        "First_elem = []\n",
        "for i in range(2**(l//2)):\n",
        "  First_elem.append(i+1)\n"
      ],
      "metadata": {
        "id": "gs9wNNZAhvy2"
      },
      "execution_count": null,
      "outputs": []
    },
    {
      "cell_type": "code",
      "source": [
        "!pip install gmpy2\n",
        "Second_elem = []\n",
        "for elem in First_elem:\n",
        "  temp = pow(elem, exp, N)\n",
        "  Second_elem.append(temp)\n"
      ],
      "metadata": {
        "colab": {
          "base_uri": "https://localhost:8080/"
        },
        "id": "Ff0xHNsKh6gJ",
        "outputId": "3fd588d2-3712-4d9d-cb3e-7882fc938433"
      },
      "execution_count": null,
      "outputs": [
        {
          "output_type": "stream",
          "name": "stdout",
          "text": [
            "Requirement already satisfied: gmpy2 in /usr/local/lib/python3.10/dist-packages (2.1.5)\n"
          ]
        }
      ]
    },
    {
      "cell_type": "code",
      "source": [
        "!pip install gmpy2\n",
        "import gmpy2\n",
        "Cs = []\n",
        "for i in range(2**(l//2)):\n",
        "  temp = gmpy2.mul(C, gmpy2.invert(Second_elem[i], N))\n",
        "  cs = gmpy2.f_mod(temp, N)\n",
        "  Cs.append(cs)"
      ],
      "metadata": {
        "colab": {
          "base_uri": "https://localhost:8080/"
        },
        "id": "fPvDrPs-iez5",
        "outputId": "9b4376bc-23d1-4c5d-bba5-3c98c4157442"
      },
      "execution_count": null,
      "outputs": [
        {
          "output_type": "stream",
          "name": "stdout",
          "text": [
            "Requirement already satisfied: gmpy2 in /usr/local/lib/python3.10/dist-packages (2.1.5)\n"
          ]
        }
      ]
    },
    {
      "cell_type": "code",
      "source": [
        "def attack(Cs, Second_elem):\n",
        "  for elem in Cs:\n",
        "    for j in range(2**(l//2)):\n",
        "      if elem == Second_elem[j]:\n",
        "        return Cs.index(elem) + 1, j + 1\n",
        "  return 0\n",
        "\n",
        "print(attack(Cs, Second_elem))"
      ],
      "metadata": {
        "colab": {
          "base_uri": "https://localhost:8080/"
        },
        "id": "TmNLef49myuR",
        "outputId": "c41703ef-8dfb-4d45-997e-986e37a05c60"
      },
      "execution_count": null,
      "outputs": [
        {
          "output_type": "stream",
          "name": "stdout",
          "text": [
            "(775, 945)\n"
          ]
        }
      ]
    },
    {
      "cell_type": "code",
      "source": [
        "!pip install gmpy2\n",
        "import gmpy2\n",
        "result = attack(Cs, Second_elem)\n",
        "if result!=0:\n",
        "  num = (result[0]*result[1])%N\n",
        "  print(hex(num))\n",
        "  if gmpy2.powmod(result[0] * result[1], exp, N) == C:\n",
        "    print(True)\n",
        "  else:\n",
        "    print(False)\n",
        "else:\n",
        "  print('Something went wrong')"
      ],
      "metadata": {
        "colab": {
          "base_uri": "https://localhost:8080/"
        },
        "id": "qRnZhJW9Ebpb",
        "outputId": "89ae0272-9b43-4731-c517-920df1f17bf0"
      },
      "execution_count": null,
      "outputs": [
        {
          "output_type": "stream",
          "name": "stdout",
          "text": [
            "Requirement already satisfied: gmpy2 in /usr/local/lib/python3.10/dist-packages (2.1.5)\n",
            "0xb2cd7\n",
            "True\n"
          ]
        }
      ]
    }
  ]
}