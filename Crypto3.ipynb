{
  "nbformat": 4,
  "nbformat_minor": 0,
  "metadata": {
    "colab": {
      "provenance": [],
      "machine_shape": "hm"
    },
    "kernelspec": {
      "name": "python3",
      "display_name": "Python 3"
    },
    "language_info": {
      "name": "python"
    }
  },
  "cells": [
    {
      "cell_type": "code",
      "source": [
        "!pip install gmpy2"
      ],
      "metadata": {
        "id": "DA2hsWn74TUW",
        "outputId": "5ca4aaff-f879-4982-c11c-ff0ae0f87d78",
        "colab": {
          "base_uri": "https://localhost:8080/"
        }
      },
      "execution_count": 20,
      "outputs": [
        {
          "output_type": "stream",
          "name": "stdout",
          "text": [
            "Collecting gmpy2\n",
            "  Downloading gmpy2-2.1.5-cp310-cp310-manylinux_2_17_x86_64.manylinux2014_x86_64.whl (1.7 MB)\n",
            "\u001b[2K     \u001b[90m━━━━━━━━━━━━━━━━━━━━━━━━━━━━━━━━━━━━━━━━\u001b[0m \u001b[32m1.7/1.7 MB\u001b[0m \u001b[31m15.7 MB/s\u001b[0m eta \u001b[36m0:00:00\u001b[0m\n",
            "\u001b[?25hInstalling collected packages: gmpy2\n",
            "Successfully installed gmpy2-2.1.5\n"
          ]
        }
      ]
    },
    {
      "cell_type": "code",
      "source": [
        "import gmpy2\n",
        "from mpmath import mp\n",
        "\n",
        "def gcdExtended(a, b):\n",
        "    if a == 0:\n",
        "        return b, 0, 1\n",
        "    gcd, x1, y1 = gcdExtended(b % a, a)\n",
        "    x = y1 - (b // a) * x1\n",
        "    y = x1\n",
        "    return gcd, x, y\n",
        "\n",
        "def CRT(C, N):\n",
        "    if len(C) != len(N):\n",
        "        return False\n",
        "\n",
        "    main_modulo = gmpy2.mpz(1)\n",
        "    for elem in N:\n",
        "        main_modulo *= elem\n",
        "\n",
        "    modules = [main_modulo // elem for elem in N]\n",
        "    answer = gmpy2.mpz(0)\n",
        "\n",
        "    for i in range(len(C)):\n",
        "        gcd, u, v = gcdExtended(N[i], modules[i])\n",
        "        answer += v * modules[i] * C[i]\n",
        "\n",
        "    return answer % main_modulo\n",
        "\n",
        "#values\n",
        "C = [\n",
        "    0x395e52a536912beb6964bca9b30fec8d4d98ec65aeac935131405c961ece5b9d00ce50ea26ba697854dbaa9cd46cf8134cbe706a405f5e56f00207fb209792bf5945948971b080d2dd7438123c42ac74cdd33623e784fc66a3ff6a67b6c3e680a38f91eeebd109436b84412ce967689f0d5f697bfc20bea5da77ed5632231506,\n",
        "    0x0739d2e6df2a26bbf01c52e6c254d5eb9c3fb6d05fa329b1b0712a4bdcdf9b8b11d154ee1a825f951327d9d24ab71f223259d6a5e2cbe4887e0934c9b6443a24192a30c841d6c557ed28cc6ad343eab4c7fa997069ba1636c24f15b801ae876a0d62722db0fa20fb111cd435faa3f0ea78d793ef2e68cce8d84c0310ac049546,\n",
        "    0x3bd52f93a7e8a43e070b6d09f4f2367798ed6140bd6d3e3885250658acb705570b6a4d07cf2d947494872256735e08f8a126d9f8a9a05800f322e4cba903a6d91c31b86ec84df0d76f00a16b3440ca470de6729328a2d03bee0823af4f072a516737c9a126447d580d1fdde01e57788c3f451000861a698db158f10a0a02145c,\n",
        "    0x8bed05b0b3e00893f9258c0a6956f94ddfb9665c932a94cce8edee3ff912abc0c328e216b4bc1cbd2549e03dacb49f9dbe76cdf950cfe784755e58c7988873ed6bf380f7246c96f6172d6a3506577db25f951d5c164aa8c2e9daf9c0443a22893cc69695b0405ed78b8fa97129295be4c2ebf5d8740d8273f796ea263ca840ed,\n",
        "    0x2256694e94b5340fa139bb3f1943c381d36ff75b0edcd48555521c8dc7367135246c63deed67d05b5770e2227b64ddf67dc34029787d6acc60428ebde5a472906ffafe0624b452b8f13eac0ee3bf0dea530ef838d56c0421fe3cc844852822c59607340c4227fabebea6b15be89df10c8c03c24c34dd541b00d35a1087bc3241\n",
        "]\n",
        "N = [\n",
        "    0xCC4B801799A5458F8D66DAD95281FF122A6AAC02E9D7830B65853C77A74D5B9381F7BC2F302D8A4CB9C4EEE2052360810B82A49B3BECE0F7C7F3E41179EEC6A66F7E0322F6AD1207ABDCA9015D048005D3BE296A0AA010BEC868372B1714FB45BF6F5BAA444B47FFA681E4F4407288A4B138D61B5B420F518693420C1F0B9B0D,\n",
        "    0xB1888F629D2AB29BD847C3B81FDF215238EC592A9F9200F6F12A23536242C6B8B9B4C338A8E88DCEFAB9FBA078A27E64ACB94C013F0C8E3DAD1F5E62126A011B573920574A1D367F89D42B17AE0D1DCED53C62B0A5A9689A82371797DCDB1BF44C6D0A203368A7AC5E5DEE5EA0316ACE735AFCE24628F93D42F6EE32F7F26565,\n",
        "    0xBD430F9E12CCDEAAB4FE8C04BB668971F1EB45DE825A29485A825E34771D6CB63FC5C0010986BD4FC929FC2301F33678EF458664C3121F8E33C3832FF17A9EE0985BA9B0F76D92C1655130237EA4E1AE54A06590F95544E940FBA1BF2B5BEFB3F1F092B27BDD14E88ACD75EAE76D18134C3B959CDC9A51F1DC5B309FBD67911F,\n",
        "    0xE1606D0FC2AE26C9D22E397C8F23EC29D4D859CCBFCA43CCF485A0CEE03AAF465976791805ECB3DB47ABB9125A4A69FEE22E981839B4369750FD1238A8EB92D43655C8A18291B98017053B152A068BF0B0C26FE4B8ACFA4B7FA306DE50666B2B71D1291ACA92024D9E8D172A30DD2B7FD5BCE57F08FD2B0E6F25099CAE0A6825,\n",
        "    0x9E4BDF8EB66ADDBCABEAC1EB4B138BAC068B9E0FFF81316EC28A53F793B601C47D0DE6166F1908B2DEC74629C39BA9D6CEB3AB2151C664545B2C5CAF5A34EBBADC6BAA4C873E4281DEF9067E8276EF97832C6A884383F8BE925D9502030DEC8570470EA2638B5ADF19880F1ECF264B81831A8F4D54F1D2FC8B1E829E46C45E75\n",
        "]\n",
        "\n",
        "\n",
        "E = 5\n",
        "mp.dps = 5000  # Setting precision for mpmath\n",
        "big_C_str = str(big_C)  # Convert big_C to string\n",
        "big_C_mpf = mp.mpf(big_C_str)  # Now convert the string to an mpf\n",
        "message = mp.nthroot(big_C_mpf, E)\n",
        "\n",
        "print(hex(int(message)))\n",
        "print(int(message) ** E == big_C_mpf)\n",
        "print(big_C_mpf)\n"
      ],
      "metadata": {
        "id": "zTNagfRz3MYy",
        "outputId": "9ffb67d9-3a48-48a3-df6d-c494faed2f50",
        "colab": {
          "base_uri": "https://localhost:8080/"
        }
      },
      "execution_count": 35,
      "outputs": [
        {
          "output_type": "stream",
          "name": "stdout",
          "text": [
            "4969676562200179293879512992785954432239689038776269294938178397419464969986467239155050627166148660149326275916659625314601740094258279072965961500584765181649036009371812825347219616261470113514399344903216468405728855810612566850401863867289209368780407746720338078593769253970112182312854805028148457885037533408908302187491347455053779082483255368033116397263088019546118385645981553298090500626694952565962121127356227417229727562419522679578433325686529037495562756778339997416162225446003141342666194141348171876898826325336543518139568789296833351240687810935775785335427197175517072622718228964415275491894408936714641292376279538439225876365173509843452530736055413443428700653251347943443759925315038877649010670841173699179363127155339427586434121319185745892584579256910001426121649725703281959275957359893615829553105066190517363914482650312039476587640454890847594773509976688399906133399227723900084125774956530972687831192265581558051754662743940785671378546193228673193448474832028471005155161859331970264408117519639690005263016726073461090737391524799120696209144061075997225816586242111499827486103279006954665707597566119016098790155522388152534852968714479859253231716058873562024803743618175381343820226450113823058821524087251771100649992841294035329402003274793383817510255278396969674409225700636216215643418625330197619124040380240834333562956767203297197690767370331160084337118489770124935989524077973560937024356959047797293659692008480870283002766505233117459455183296746674034313626624\n",
            "0x1ffffffffffffffff00f41490692bd308d69202d6420dfef6f885688b0152d37418a2a2ea7b3ad57a5f8792cd313058f16117faec165f5969fc16f8cb9bc03e5f45b126b2300ec123708e781b483508f32574782da1efbc673d40fd7709eec9d9ccb992c5f435d77710e19cc3361a2424bf9689069f765346bbdd035e8784\n",
            "True\n",
            "4969676562200179293879512992785954432239689038776269294938178397419464969986467239155050627166148660149326275916659625314601740094258279072965961500584765181649036009371812825347219616261470113514399344903216468405728855810612566850401863867289209368780407746720338078593769253970112182312854805028148457885037533408908302187491347455053779082483255368033116397263088019546118385645981553298090500626694952565962121127356227417229727562419522679578433325686529037495562756778339997416162225446003141342666194141348171876898826325336543518139568789296833351240687810935775785335427197175517072622718228964415275491894408936714641292376279538439225876365173509843452530736055413443428700653251347943443759925315038877649010670841173699179363127155339427586434121319185745892584579256910001426121649725703281959275957359893615829553105066190517363914482650312039476587640454890847594773509976688399906133399227723900084125774956530972687831192265581558051754662743940785671378546193228673193448474832028471005155161859331970264408117519639690005263016726073461090737391524799120696209144061075997225816586242111499827486103279006954665707597566119016098790155522388152534852968714479859253231716058873562024803743618175381343820226450113823058821524087251771100649992841294035329402003274793383817510255278396969674409225700636216215643418625330197619124040380240834333562956767203297197690767370331160084337118489770124935989524077973560937024356959047797293659692008480870283002766505233117459455183296746674034313626624.0\n"
          ]
        }
      ]
    },
    {
      "cell_type": "markdown",
      "source": [
        "MITM attack"
      ],
      "metadata": {
        "id": "VNNKjVEJ_m9e"
      }
    },
    {
      "cell_type": "code",
      "source": [
        "C = 0x5860dec3f02dd10d2e6dc83272f9158dc2ae2eafd892baef5c9b8b52ad547f4ad6a79765516410bc21bf8602752b20ccf4ee36ec4e5ee1acc0f2f86880e1b738ae5cf5c35e73a892e78633f1a3fa2ca8880dfdab54aad8571c0ba1a159e7895efae5890470af7ebf80cebf709caf2c448b5e2de378b39e27234113b029a9c690697e0b97a6e1e97909458be686a884c2fd0a74cc85568a10b3344082e8dedd930508a9c62227e25e89aa779fc1ad5ec30a355d84b209d9641e6d092a77de0e71ee19a16a95c0fc2c5ead148a9e3c752cd124dbd2e2d2bf7385e41810bf8c7f44ce8616136d1d269b3f893cb15f182989631daa61f295fa2c2a8e82969b345096\n",
        "N = 0xD6022177E7453C4E8E165F545FC3C514D78DDA75B6BEAE0CB5802FE4310298B9EF119CDE0F78BFFA1737F33AF5904E09A6A4747BD63DC55A5A5F6FB597A424222223B4DD114FE036EE2A628261B3F29D8FC0ACB402F3F1C09DEF5A96ED7844CEBAB5AA8994AA8D72B022405C68DF5E7F8940D9914A62EE0F390E72215CD0CFC6D417735E81DBD334F21D11A7F2FD7FFF040CAB7BCE92D358995159C1381FDBE207ED98B8FE4355170E5E2617BC1C68DDA4C95F227090846DE85095390CDCF9540614DDABE4AC2B01ECDA5AD298EBE0BAC3ABD73854FB5C27133916CDAA105F5F9C902F199129EE1AA0E0FA85B4049B84D8BB021C81E8C7F73D36093B4DA04383\n",
        "N = int(N)\n",
        "l = 20\n",
        "exp = 65537"
      ],
      "metadata": {
        "id": "GHHuTjhM_Nk3"
      },
      "execution_count": null,
      "outputs": []
    },
    {
      "cell_type": "code",
      "source": [
        "First_elem = []\n",
        "for i in range(2**(l//2)):\n",
        "  First_elem.append(i+1)\n"
      ],
      "metadata": {
        "id": "gs9wNNZAhvy2"
      },
      "execution_count": null,
      "outputs": []
    },
    {
      "cell_type": "code",
      "source": [
        "!pip install gmpy2\n",
        "Second_elem = []\n",
        "for elem in First_elem:\n",
        "  temp = pow(elem, exp, N)\n",
        "  Second_elem.append(temp)\n"
      ],
      "metadata": {
        "colab": {
          "base_uri": "https://localhost:8080/"
        },
        "id": "Ff0xHNsKh6gJ",
        "outputId": "3fd588d2-3712-4d9d-cb3e-7882fc938433"
      },
      "execution_count": null,
      "outputs": [
        {
          "output_type": "stream",
          "name": "stdout",
          "text": [
            "Requirement already satisfied: gmpy2 in /usr/local/lib/python3.10/dist-packages (2.1.5)\n"
          ]
        }
      ]
    },
    {
      "cell_type": "code",
      "source": [
        "!pip install gmpy2\n",
        "import gmpy2\n",
        "Cs = []\n",
        "for i in range(2**(l//2)):\n",
        "  temp = gmpy2.mul(C, gmpy2.invert(Second_elem[i], N))\n",
        "  cs = gmpy2.f_mod(temp, N)\n",
        "  Cs.append(cs)"
      ],
      "metadata": {
        "colab": {
          "base_uri": "https://localhost:8080/"
        },
        "id": "fPvDrPs-iez5",
        "outputId": "9b4376bc-23d1-4c5d-bba5-3c98c4157442"
      },
      "execution_count": null,
      "outputs": [
        {
          "output_type": "stream",
          "name": "stdout",
          "text": [
            "Requirement already satisfied: gmpy2 in /usr/local/lib/python3.10/dist-packages (2.1.5)\n"
          ]
        }
      ]
    },
    {
      "cell_type": "code",
      "source": [
        "def attack(Cs, Second_elem):\n",
        "  for elem in Cs:\n",
        "    for j in range(2**(l//2)):\n",
        "      if elem == Second_elem[j]:\n",
        "        return Cs.index(elem) + 1, j + 1\n",
        "  return 0\n",
        "\n",
        "print(attack(Cs, Second_elem))\n"
      ],
      "metadata": {
        "colab": {
          "base_uri": "https://localhost:8080/"
        },
        "id": "TmNLef49myuR",
        "outputId": "c41703ef-8dfb-4d45-997e-986e37a05c60"
      },
      "execution_count": null,
      "outputs": [
        {
          "output_type": "stream",
          "name": "stdout",
          "text": [
            "(775, 945)\n"
          ]
        }
      ]
    },
    {
      "cell_type": "code",
      "source": [
        "!pip install gmpy2\n",
        "import gmpy2\n",
        "result = attack(Cs, Second_elem)\n",
        "if result!=0:\n",
        "  num = (result[0]*result[1])%N\n",
        "  print(hex(num))\n",
        "  if gmpy2.powmod(result[0] * result[1], exp, N) == C:\n",
        "    print(True)\n",
        "  else:\n",
        "    print(False)\n",
        "else:\n",
        "  print('Something went wrong')"
      ],
      "metadata": {
        "colab": {
          "base_uri": "https://localhost:8080/"
        },
        "id": "qRnZhJW9Ebpb",
        "outputId": "89ae0272-9b43-4731-c517-920df1f17bf0"
      },
      "execution_count": null,
      "outputs": [
        {
          "output_type": "stream",
          "name": "stdout",
          "text": [
            "Requirement already satisfied: gmpy2 in /usr/local/lib/python3.10/dist-packages (2.1.5)\n",
            "0xb2cd7\n",
            "True\n"
          ]
        }
      ]
    },
    {
      "cell_type": "code",
      "source": [
        "print(hex(775))\n",
        "print(hex(945))"
      ],
      "metadata": {
        "id": "q5zPAsCzuW2z",
        "outputId": "95187b1c-8a65-4e21-8a9a-9d84420dc614",
        "colab": {
          "base_uri": "https://localhost:8080/"
        }
      },
      "execution_count": 14,
      "outputs": [
        {
          "output_type": "stream",
          "name": "stdout",
          "text": [
            "0x307\n",
            "0x3b1\n"
          ]
        }
      ]
    }
  ]
}